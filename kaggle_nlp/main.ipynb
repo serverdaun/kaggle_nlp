{
 "cells": [
  {
   "cell_type": "code",
   "id": "initial_id",
   "metadata": {
    "collapsed": true,
    "ExecuteTime": {
     "end_time": "2024-12-21T17:14:18.075914Z",
     "start_time": "2024-12-21T17:14:18.069364Z"
    }
   },
   "source": [
    "import pandas as pd\n",
    "import re"
   ],
   "outputs": [],
   "execution_count": 64
  },
  {
   "metadata": {
    "ExecuteTime": {
     "end_time": "2024-12-21T16:39:02.315589Z",
     "start_time": "2024-12-21T16:39:02.294713Z"
    }
   },
   "cell_type": "code",
   "source": "tweets_df = pd.read_csv('data/train.csv')",
   "id": "345baea474e3a6b6",
   "outputs": [],
   "execution_count": 41
  },
  {
   "metadata": {},
   "cell_type": "markdown",
   "source": "Data Preprocessing",
   "id": "c6ed9e64160f3e7"
  },
  {
   "metadata": {
    "ExecuteTime": {
     "end_time": "2024-12-21T16:39:03.019741Z",
     "start_time": "2024-12-21T16:39:03.014324Z"
    }
   },
   "cell_type": "code",
   "source": "tweets_df.head()",
   "id": "21d344e2677f5e68",
   "outputs": [
    {
     "data": {
      "text/plain": [
       "   id keyword location                                               text  \\\n",
       "0   1     NaN      NaN  Our Deeds are the Reason of this #earthquake M...   \n",
       "1   4     NaN      NaN             Forest fire near La Ronge Sask. Canada   \n",
       "2   5     NaN      NaN  All residents asked to 'shelter in place' are ...   \n",
       "3   6     NaN      NaN  13,000 people receive #wildfires evacuation or...   \n",
       "4   7     NaN      NaN  Just got sent this photo from Ruby #Alaska as ...   \n",
       "\n",
       "   target  \n",
       "0       1  \n",
       "1       1  \n",
       "2       1  \n",
       "3       1  \n",
       "4       1  "
      ],
      "text/html": [
       "<div>\n",
       "<style scoped>\n",
       "    .dataframe tbody tr th:only-of-type {\n",
       "        vertical-align: middle;\n",
       "    }\n",
       "\n",
       "    .dataframe tbody tr th {\n",
       "        vertical-align: top;\n",
       "    }\n",
       "\n",
       "    .dataframe thead th {\n",
       "        text-align: right;\n",
       "    }\n",
       "</style>\n",
       "<table border=\"1\" class=\"dataframe\">\n",
       "  <thead>\n",
       "    <tr style=\"text-align: right;\">\n",
       "      <th></th>\n",
       "      <th>id</th>\n",
       "      <th>keyword</th>\n",
       "      <th>location</th>\n",
       "      <th>text</th>\n",
       "      <th>target</th>\n",
       "    </tr>\n",
       "  </thead>\n",
       "  <tbody>\n",
       "    <tr>\n",
       "      <th>0</th>\n",
       "      <td>1</td>\n",
       "      <td>NaN</td>\n",
       "      <td>NaN</td>\n",
       "      <td>Our Deeds are the Reason of this #earthquake M...</td>\n",
       "      <td>1</td>\n",
       "    </tr>\n",
       "    <tr>\n",
       "      <th>1</th>\n",
       "      <td>4</td>\n",
       "      <td>NaN</td>\n",
       "      <td>NaN</td>\n",
       "      <td>Forest fire near La Ronge Sask. Canada</td>\n",
       "      <td>1</td>\n",
       "    </tr>\n",
       "    <tr>\n",
       "      <th>2</th>\n",
       "      <td>5</td>\n",
       "      <td>NaN</td>\n",
       "      <td>NaN</td>\n",
       "      <td>All residents asked to 'shelter in place' are ...</td>\n",
       "      <td>1</td>\n",
       "    </tr>\n",
       "    <tr>\n",
       "      <th>3</th>\n",
       "      <td>6</td>\n",
       "      <td>NaN</td>\n",
       "      <td>NaN</td>\n",
       "      <td>13,000 people receive #wildfires evacuation or...</td>\n",
       "      <td>1</td>\n",
       "    </tr>\n",
       "    <tr>\n",
       "      <th>4</th>\n",
       "      <td>7</td>\n",
       "      <td>NaN</td>\n",
       "      <td>NaN</td>\n",
       "      <td>Just got sent this photo from Ruby #Alaska as ...</td>\n",
       "      <td>1</td>\n",
       "    </tr>\n",
       "  </tbody>\n",
       "</table>\n",
       "</div>"
      ]
     },
     "execution_count": 42,
     "metadata": {},
     "output_type": "execute_result"
    }
   ],
   "execution_count": 42
  },
  {
   "metadata": {
    "ExecuteTime": {
     "end_time": "2024-12-21T16:39:03.538678Z",
     "start_time": "2024-12-21T16:39:03.532583Z"
    }
   },
   "cell_type": "code",
   "source": "tweets_df.info()",
   "id": "e5e1b83f84f45055",
   "outputs": [
    {
     "name": "stdout",
     "output_type": "stream",
     "text": [
      "<class 'pandas.core.frame.DataFrame'>\n",
      "RangeIndex: 7613 entries, 0 to 7612\n",
      "Data columns (total 5 columns):\n",
      " #   Column    Non-Null Count  Dtype \n",
      "---  ------    --------------  ----- \n",
      " 0   id        7613 non-null   int64 \n",
      " 1   keyword   7552 non-null   object\n",
      " 2   location  5080 non-null   object\n",
      " 3   text      7613 non-null   object\n",
      " 4   target    7613 non-null   int64 \n",
      "dtypes: int64(2), object(3)\n",
      "memory usage: 297.5+ KB\n"
     ]
    }
   ],
   "execution_count": 43
  },
  {
   "metadata": {
    "ExecuteTime": {
     "end_time": "2024-12-21T16:39:04.262847Z",
     "start_time": "2024-12-21T16:39:04.257890Z"
    }
   },
   "cell_type": "code",
   "source": "tweets_df['target'].value_counts()",
   "id": "6b90c5962967ca9d",
   "outputs": [
    {
     "data": {
      "text/plain": [
       "target\n",
       "0    4342\n",
       "1    3271\n",
       "Name: count, dtype: int64"
      ]
     },
     "execution_count": 44,
     "metadata": {},
     "output_type": "execute_result"
    }
   ],
   "execution_count": 44
  },
  {
   "metadata": {
    "ExecuteTime": {
     "end_time": "2024-12-21T16:39:05.374430Z",
     "start_time": "2024-12-21T16:39:05.370024Z"
    }
   },
   "cell_type": "code",
   "source": "tweets_clean = tweets_df.copy()",
   "id": "2d8d9c29ae07ddbc",
   "outputs": [],
   "execution_count": 45
  },
  {
   "metadata": {
    "ExecuteTime": {
     "end_time": "2024-12-21T16:39:34.381038Z",
     "start_time": "2024-12-21T16:39:34.377183Z"
    }
   },
   "cell_type": "code",
   "source": "tweets_clean['keyword'].value_counts()",
   "id": "41ff3c021426351c",
   "outputs": [
    {
     "data": {
      "text/plain": [
       "keyword\n",
       "unknown                61\n",
       "fatalities             45\n",
       "deluge                 42\n",
       "armageddon             42\n",
       "sinking                41\n",
       "                       ..\n",
       "forest fire            19\n",
       "epicentre              12\n",
       "threat                 11\n",
       "inundation             10\n",
       "radiation emergency     9\n",
       "Name: count, Length: 222, dtype: int64"
      ]
     },
     "execution_count": 47,
     "metadata": {},
     "output_type": "execute_result"
    }
   ],
   "execution_count": 47
  },
  {
   "metadata": {
    "ExecuteTime": {
     "end_time": "2024-12-21T16:40:52.307833Z",
     "start_time": "2024-12-21T16:40:52.296560Z"
    }
   },
   "cell_type": "code",
   "source": [
    "# Fill missing values and replace regex space\n",
    "tweets_clean['keyword'] = tweets_clean['keyword'].fillna('unknown')\n",
    "tweets_clean['keyword'] = tweets_clean['keyword'].apply(lambda x: x.replace('%20', ' '))"
   ],
   "id": "7a926440190aa03e",
   "outputs": [],
   "execution_count": 48
  },
  {
   "metadata": {
    "ExecuteTime": {
     "end_time": "2024-12-21T17:00:10.927414Z",
     "start_time": "2024-12-21T17:00:10.881142Z"
    }
   },
   "cell_type": "code",
   "source": [
    "# Combine 'keyword' and 'text' into 'combined_text'\n",
    "def combine_text(row):\n",
    "    keyword = row['keyword']\n",
    "    text = row['text']\n",
    "    return f'keyword: {keyword} text: {text}'\n",
    "\n",
    "tweets_clean['combined_text'] = tweets_clean.apply(combine_text, axis=1)"
   ],
   "id": "54d34e5d01d8fb4b",
   "outputs": [],
   "execution_count": 53
  },
  {
   "metadata": {
    "ExecuteTime": {
     "end_time": "2024-12-21T17:04:14.682912Z",
     "start_time": "2024-12-21T17:04:14.644106Z"
    }
   },
   "cell_type": "code",
   "source": [
    "# Text cleaning\n",
    "def clean_text(text):\n",
    "    text = re.sub(r'http\\S+', '', text)\n",
    "    text = re.sub(r'@\\w+', '', text) # remove full mentions\n",
    "    text = re.sub(r'#', '', text) # remove only hashtag sign but leave hashtag text\n",
    "    text = re.sub(r'[^\\w\\s]', '', text)\n",
    "    text = text.lower()\n",
    "    return text\n",
    "\n",
    "tweets_clean['combined_text'] = tweets_clean['combined_text'].apply(clean_text)"
   ],
   "id": "9d8403a3cef75d60",
   "outputs": [],
   "execution_count": 54
  },
  {
   "metadata": {},
   "cell_type": "markdown",
   "source": "Define a Dataset Class",
   "id": "585804b54f84fa0c"
  },
  {
   "metadata": {},
   "cell_type": "code",
   "outputs": [],
   "execution_count": null,
   "source": "",
   "id": "d2ddc7f818a4c91"
  },
  {
   "metadata": {},
   "cell_type": "code",
   "outputs": [],
   "execution_count": null,
   "source": "",
   "id": "b47791eb4575d5fb"
  },
  {
   "metadata": {},
   "cell_type": "code",
   "outputs": [],
   "execution_count": null,
   "source": "",
   "id": "5cbab2791f57b632"
  },
  {
   "metadata": {},
   "cell_type": "code",
   "outputs": [],
   "execution_count": null,
   "source": "",
   "id": "28a14200903585d9"
  },
  {
   "metadata": {},
   "cell_type": "code",
   "outputs": [],
   "execution_count": null,
   "source": "",
   "id": "c4041ed645d17279"
  },
  {
   "metadata": {},
   "cell_type": "code",
   "outputs": [],
   "execution_count": null,
   "source": "",
   "id": "d0dad5001a4b3960"
  },
  {
   "metadata": {},
   "cell_type": "code",
   "outputs": [],
   "execution_count": null,
   "source": "",
   "id": "fa1af66411fce533"
  }
 ],
 "metadata": {
  "kernelspec": {
   "display_name": "Python 3",
   "language": "python",
   "name": "python3"
  },
  "language_info": {
   "codemirror_mode": {
    "name": "ipython",
    "version": 2
   },
   "file_extension": ".py",
   "mimetype": "text/x-python",
   "name": "python",
   "nbconvert_exporter": "python",
   "pygments_lexer": "ipython2",
   "version": "2.7.6"
  }
 },
 "nbformat": 4,
 "nbformat_minor": 5
}
